{
 "cells": [
  {
   "cell_type": "markdown",
   "metadata": {},
   "source": [
    "## Connect and Authenticate"
   ]
  },
  {
   "cell_type": "code",
   "execution_count": null,
   "metadata": {
    "collapsed": false
   },
   "outputs": [],
   "source": [
    "import pokitdok"
   ]
  },
  {
   "cell_type": "code",
   "execution_count": null,
   "metadata": {
    "collapsed": false
   },
   "outputs": [],
   "source": [
    "pd = pokitdok.api.connect('[your client id]', '[your client secret]')"
   ]
  },
  {
   "cell_type": "markdown",
   "metadata": {},
   "source": [
    "_or_"
   ]
  },
  {
   "cell_type": "code",
   "execution_count": null,
   "metadata": {
    "collapsed": true
   },
   "outputs": [],
   "source": [
    "import os\n",
    "client_id = os.environ['POKITDOK_CLIENT_ID']\n",
    "client_secret = os.environ['POKITDOK_CLIENT_SECRET']\n",
    "pd = pokitdok.api.connect(client_id, client_secret)"
   ]
  },
  {
   "cell_type": "markdown",
   "metadata": {},
   "source": [
    "## Making API Requests"
   ]
  },
  {
   "cell_type": "code",
   "execution_count": null,
   "metadata": {
    "collapsed": true
   },
   "outputs": [],
   "source": [
    "# a low level \"request\" method is available that allows you to have more control over the construction of the API request\n",
    "pd.request('/activities', method='get')"
   ]
  },
  {
   "cell_type": "code",
   "execution_count": null,
   "metadata": {
    "collapsed": true
   },
   "outputs": [],
   "source": [
    "pd.request('/eligibility/', method='post', data={\n",
    "    \"member\": {\n",
    "        \"birth_date\": \"1970-01-01\",\n",
    "        \"first_name\": \"Jane\",\n",
    "        \"last_name\": \"Doe\",\n",
    "        \"id\": \"W000000000\"\n",
    "    },\n",
    "    \"trading_partner_id\": \"MOCKPAYER\"\n",
    "})"
   ]
  },
  {
   "cell_type": "code",
   "execution_count": null,
   "metadata": {
    "collapsed": true
   },
   "outputs": [],
   "source": [
    "# Convenience methods are available for the commonly used http methods built around the request method\n",
    "pd.get('/activities')"
   ]
  },
  {
   "cell_type": "code",
   "execution_count": null,
   "metadata": {
    "collapsed": true
   },
   "outputs": [],
   "source": [
    "pd.post('/eligibility/', data={\n",
    "    \"member\": {\n",
    "        \"birth_date\": \"1970-01-01\",\n",
    "        \"first_name\": \"Jane\",\n",
    "        \"last_name\": \"Doe\",\n",
    "        \"id\": \"W000000000\"\n",
    "    },\n",
    "    \"trading_partner_id\": \"MOCKPAYER\"\n",
    "})"
   ]
  },
  {
   "cell_type": "code",
   "execution_count": null,
   "metadata": {
    "collapsed": true
   },
   "outputs": [],
   "source": [
    "# higher level functions are also available to access the APIs\n",
    "pd.activities()"
   ]
  },
  {
   "cell_type": "code",
   "execution_count": null,
   "metadata": {
    "collapsed": true
   },
   "outputs": [],
   "source": [
    "pd.eligibility({\n",
    "    \"member\": {\n",
    "        \"birth_date\": \"1970-01-01\",\n",
    "        \"first_name\": \"Jane\",\n",
    "        \"last_name\": \"Doe\",\n",
    "        \"id\": \"W000000000\"\n",
    "    },\n",
    "    \"trading_partner_id\": \"MOCKPAYER\"\n",
    "})"
   ]
  },
  {
   "cell_type": "markdown",
   "metadata": {},
   "source": [
    "## Data APIs"
   ]
  },
  {
   "cell_type": "markdown",
   "metadata": {},
   "source": [
    "### Claims Convert"
   ]
  },
  {
   "cell_type": "code",
   "execution_count": null,
   "metadata": {
    "collapsed": true
   },
   "outputs": [],
   "source": [
    "#convert existing claims in a X12 837 file to claims request JSON.  ICD-9 codes are converted to ICD-10\n",
    "pd.claims_convert('/path/to/my_claims.837')"
   ]
  },
  {
   "cell_type": "markdown",
   "metadata": {},
   "source": [
    "### Prices"
   ]
  },
  {
   "cell_type": "code",
   "execution_count": null,
   "metadata": {
    "collapsed": false
   },
   "outputs": [],
   "source": [
    "#retrieve cash price information by zip and CPT code\n",
    "pd.cash_prices(zip_code='32218', cpt_code='87799')"
   ]
  },
  {
   "cell_type": "code",
   "execution_count": null,
   "metadata": {
    "collapsed": false
   },
   "outputs": [],
   "source": [
    "#retrieve insurance price information by zip and CPT code\n",
    "pd.insurance_prices(zip_code='32218', cpt_code='87799')"
   ]
  },
  {
   "cell_type": "markdown",
   "metadata": {},
   "source": [
    "### Plans"
   ]
  },
  {
   "cell_type": "code",
   "execution_count": null,
   "metadata": {
    "collapsed": true
   },
   "outputs": [],
   "source": [
    "#retrieve insurance plan information.  For example, EPO plans in Texas.\n",
    "pd.plans(state='TX', plan_type='EPO')"
   ]
  },
  {
   "cell_type": "markdown",
   "metadata": {},
   "source": [
    "### Providers"
   ]
  },
  {
   "cell_type": "code",
   "execution_count": null,
   "metadata": {
    "collapsed": false
   },
   "outputs": [],
   "source": [
    "#retrieve provider information by NPI\n",
    "pd.providers(npi='1467560003')"
   ]
  },
  {
   "cell_type": "code",
   "execution_count": null,
   "metadata": {
    "collapsed": false
   },
   "outputs": [],
   "source": [
    "#search providers by name (individuals)\n",
    "pd.providers(first_name='Jerome', last_name='Aya-Ay')"
   ]
  },
  {
   "cell_type": "code",
   "execution_count": null,
   "metadata": {
    "collapsed": false
   },
   "outputs": [],
   "source": [
    "#search providers by name (organizations)\n",
    "pd.providers(organization_name='Qliance')"
   ]
  },
  {
   "cell_type": "code",
   "execution_count": null,
   "metadata": {
    "collapsed": false
   },
   "outputs": [],
   "source": [
    "#search providers by location and/or specialty\n",
    "pd.providers(zipcode='29307', radius='10mi')"
   ]
  },
  {
   "cell_type": "code",
   "execution_count": null,
   "metadata": {
    "collapsed": false
   },
   "outputs": [],
   "source": [
    "pd.providers(zipcode='29307', radius='10mi', specialty='RHEUMATOLOGY')"
   ]
  },
  {
   "cell_type": "markdown",
   "metadata": {},
   "source": [
    "### Medical Procedure Code (MPC)"
   ]
  },
  {
   "cell_type": "code",
   "execution_count": null,
   "metadata": {
    "collapsed": true
   },
   "outputs": [],
   "source": [
    "pd.mpc(code='99213')"
   ]
  },
  {
   "cell_type": "markdown",
   "metadata": {},
   "source": [
    "## X12 APIs"
   ]
  },
  {
   "cell_type": "markdown",
   "metadata": {},
   "source": [
    "### Eligibility"
   ]
  },
  {
   "cell_type": "code",
   "execution_count": null,
   "metadata": {
    "collapsed": false
   },
   "outputs": [],
   "source": [
    "pd.eligibility({\n",
    "    \"member\": {\n",
    "        \"birth_date\": \"1970-01-01\",\n",
    "        \"first_name\": \"Jane\",\n",
    "        \"last_name\": \"Doe\",\n",
    "        \"id\": \"W000000000\"\n",
    "    },\n",
    "    \"trading_partner_id\": \"MOCKPAYER\"\n",
    "})"
   ]
  },
  {
   "cell_type": "code",
   "execution_count": null,
   "metadata": {
    "collapsed": true
   },
   "outputs": [],
   "source": [
    "pd.eligibility({\n",
    "    \"member\": {\n",
    "        \"birth_date\": \"1970-01-01\",\n",
    "        \"first_name\": \"Jane\",\n",
    "        \"last_name\": \"Doe\",\n",
    "        \"id\": \"W000000000\"\n",
    "    },\n",
    "    \"provider\": {\n",
    "        \"first_name\": \"JEROME\",\n",
    "        \"last_name\": \"AYA-AY\",\n",
    "        \"npi\": \"1467560003\"\n",
    "    },\n",
    "    \"service_types\": [\"health_benefit_plan_coverage\"],\n",
    "    \"trading_partner_id\": \"MOCKPAYER\"\n",
    "})"
   ]
  },
  {
   "cell_type": "markdown",
   "metadata": {},
   "source": [
    "### Claims"
   ]
  },
  {
   "cell_type": "code",
   "execution_count": null,
   "metadata": {
    "collapsed": false
   },
   "outputs": [],
   "source": [
    "pd.claims({\n",
    "    \"transaction_code\": \"chargeable\",\n",
    "    \"trading_partner_id\": \"MOCKPAYER\",\n",
    "    \"billing_provider\": {\n",
    "        \"taxonomy_code\": \"207Q00000X\",\n",
    "        \"first_name\": \"Jerome\",\n",
    "        \"last_name\": \"Aya-Ay\",\n",
    "        \"npi\": \"1467560003\",\n",
    "        \"address\": {\n",
    "            \"address_lines\": [\n",
    "                \"8311 WARREN H ABERNATHY HWY\"\n",
    "            ],\n",
    "            \"city\": \"SPARTANBURG\",\n",
    "            \"state\": \"SC\",\n",
    "            \"zipcode\": \"29301\"\n",
    "        },\n",
    "        \"tax_id\": \"123456789\"\n",
    "    },\n",
    "    \"subscriber\": {\n",
    "        \"first_name\": \"Jane\",\n",
    "        \"last_name\": \"Doe\",\n",
    "        \"member_id\": \"W000000000\",\n",
    "        \"address\": {\n",
    "            \"address_lines\": [\"123 N MAIN ST\"],\n",
    "            \"city\": \"SPARTANBURG\",\n",
    "            \"state\": \"SC\",\n",
    "            \"zipcode\": \"29301\"\n",
    "        },\n",
    "        \"birth_date\": \"1970-01-01\",\n",
    "        \"gender\": \"female\"\n",
    "    },\n",
    "    \"claim\": {\n",
    "        \"total_charge_amount\": 60.0,\n",
    "        \"service_lines\": [\n",
    "            {\n",
    "                \"procedure_code\": \"99213\",\n",
    "                \"charge_amount\": 60.0,\n",
    "                \"unit_count\": 1.0,\n",
    "                \"diagnosis_codes\": [\n",
    "                    \"487.1\"\n",
    "                ],\n",
    "                \"service_date\": \"2014-06-01\"\n",
    "            }\n",
    "        ]\n",
    "    }\n",
    "})"
   ]
  },
  {
   "cell_type": "markdown",
   "metadata": {},
   "source": [
    "### Claims Status"
   ]
  },
  {
   "cell_type": "code",
   "execution_count": null,
   "metadata": {
    "collapsed": true
   },
   "outputs": [],
   "source": [
    "#Check the status of a claim\n",
    "pd.claims_status({\n",
    "    \"patient\": {\n",
    "        \"birth_date\": \"1970-01-01\",\n",
    "        \"first_name\": \"JANE\",\n",
    "        \"last_name\": \"DOE\",\n",
    "        \"id\": \"1234567890\"\n",
    "    },\n",
    "    \"provider\": {\n",
    "        \"first_name\": \"Jerome\",\n",
    "        \"last_name\": \"Aya-Ay\",\n",
    "        \"npi\": \"1467560003\",\n",
    "    },\n",
    "    \"service_date\": \"2014-01-01\",\n",
    "    \"trading_partner_id\": \"MOCKPAYER\"\n",
    "})"
   ]
  },
  {
   "cell_type": "markdown",
   "metadata": {},
   "source": [
    "### Authorizations"
   ]
  },
  {
   "cell_type": "code",
   "execution_count": null,
   "metadata": {
    "collapsed": true
   },
   "outputs": [],
   "source": [
    "#Submit an authorization request\n",
    "pd.authorizations({\n",
    "    \"event\": {\n",
    "        \"category\": \"health_services_review\",\n",
    "        \"certification_type\": \"initial\",\n",
    "        \"delivery\": {\n",
    "            \"quantity\": 1,\n",
    "            \"quantity_qualifier\": \"visits\"\n",
    "        },\n",
    "        \"diagnoses\": [\n",
    "            {\n",
    "                \"code\": \"789.00\",\n",
    "                \"date\": \"2014-10-01\"\n",
    "            }\n",
    "        ],\n",
    "        \"place_of_service\": \"office\",\n",
    "        \"provider\": {\n",
    "            \"organization_name\": \"KELLY ULTRASOUND CENTER, LLC\",\n",
    "            \"npi\": \"1760779011\",\n",
    "            \"phone\": \"8642341234\"\n",
    "        },\n",
    "        \"services\": [\n",
    "            {\n",
    "                \"cpt_code\": \"76700\",\n",
    "                \"measurement\": \"unit\",\n",
    "                \"quantity\": 1\n",
    "            }\n",
    "        ],\n",
    "        \"type\": \"diagnostic_imaging\"\n",
    "    },\n",
    "    \"patient\": {\n",
    "        \"birth_date\": \"1970-01-01\",\n",
    "        \"first_name\": \"JANE\",\n",
    "        \"last_name\": \"DOE\",\n",
    "        \"id\": \"1234567890\"\n",
    "    },\n",
    "    \"provider\": {\n",
    "        \"first_name\": \"JEROME\",\n",
    "        \"npi\": \"1467560003\",\n",
    "        \"last_name\": \"AYA-AY\"\n",
    "    },\n",
    "    \"trading_partner_id\": \"MOCKPAYER\"\n",
    "})"
   ]
  },
  {
   "cell_type": "markdown",
   "metadata": {},
   "source": [
    "### Referrals"
   ]
  },
  {
   "cell_type": "code",
   "execution_count": null,
   "metadata": {
    "collapsed": true
   },
   "outputs": [],
   "source": [
    "#Submit a referral request\n",
    "pd.referrals({\n",
    "    \"event\": {\n",
    "        \"category\": \"specialty_care_review\",\n",
    "        \"certification_type\": \"initial\",\n",
    "        \"delivery\": {\n",
    "            \"quantity\": 1,\n",
    "            \"quantity_qualifier\": \"visits\"\n",
    "        },\n",
    "        \"diagnoses\": [\n",
    "            {\n",
    "                \"code\": \"384.20\",\n",
    "                \"date\": \"2014-09-30\"\n",
    "            }\n",
    "        ],\n",
    "        \"place_of_service\": \"office\",\n",
    "        \"provider\": {\n",
    "            \"first_name\": \"JOHN\",\n",
    "            \"npi\": \"1154387751\",\n",
    "            \"last_name\": \"FOSTER\",\n",
    "            \"phone\": \"8645822900\"\n",
    "        },\n",
    "        \"type\": \"consultation\"\n",
    "    },\n",
    "    \"patient\": {\n",
    "        \"birth_date\": \"1970-01-01\",\n",
    "        \"first_name\": \"JANE\",\n",
    "        \"last_name\": \"DOE\",\n",
    "        \"id\": \"1234567890\"\n",
    "    },\n",
    "    \"provider\": {\n",
    "        \"first_name\": \"CHRISTINA\",\n",
    "        \"last_name\": \"BERTOLAMI\",\n",
    "        \"npi\": \"1619131232\"\n",
    "    },\n",
    "    \"trading_partner_id\": \"MOCKPAYER\"\n",
    "})"
   ]
  },
  {
   "cell_type": "markdown",
   "metadata": {},
   "source": [
    "### Enrollment"
   ]
  },
  {
   "cell_type": "code",
   "execution_count": null,
   "metadata": {
    "collapsed": true
   },
   "outputs": [],
   "source": [
    "#Submit an enrollment request to establish benefits for a new employee\n",
    "pd.enrollment({\n",
    "    \"action\": \"Change\",\n",
    "    \"dependents\": [],\n",
    "    \"master_policy_number\": \"ABCD012354\",\n",
    "    \"payer\": {\n",
    "        \"tax_id\": \"654456654\"\n",
    "    },\n",
    "    \"purpose\": \"Original\",\n",
    "    \"sponsor\": {\n",
    "        \"tax_id\": \"999888777\"\n",
    "    },\n",
    "    \"subscriber\": {\n",
    "        \"address\": {\n",
    "            \"city\": \"CAMP HILL\",\n",
    "            \"county\": \"CUMBERLAND\",\n",
    "            \"line\": \"100 MARKET ST\",\n",
    "            \"line2\": \"APT 3G\",\n",
    "            \"postal_code\": \"17011\",\n",
    "            \"state\": \"PA\"\n",
    "        },\n",
    "        \"benefit_status\": \"Active\",\n",
    "        \"benefits\": [\n",
    "            {\n",
    "                \"begin_date\": \"2015-01-01\",\n",
    "                \"benefit_type\": \"Health\",\n",
    "                \"coordination_of_benefits\": [\n",
    "                    {\n",
    "                        \"group_or_policy_number\": \"890111\",\n",
    "                        \"payer_responsibility\": \"Primary\",\n",
    "                        \"status\": \"Unknown\"\n",
    "                    }\n",
    "                ],\n",
    "                \"late_enrollment\": False,\n",
    "                \"maintenance_type\": \"Addition\"\n",
    "            },\n",
    "            {\n",
    "                \"begin_date\": \"2015-01-01\",\n",
    "                \"benefit_type\": \"Dental\",\n",
    "                \"late_enrollment\": False,\n",
    "                \"maintenance_type\": \"Addition\"\n",
    "            },\n",
    "            {\n",
    "                \"begin_date\": \"2015-01-01\",\n",
    "                \"benefit_type\": \"Vision\",\n",
    "                \"late_enrollment\": False,\n",
    "                \"maintenance_type\": \"Addition\"\n",
    "            }\n",
    "        ],\n",
    "        \"birth_date\": \"1940-01-01\",\n",
    "        \"contacts\": [\n",
    "            {\n",
    "                \"communication_number2\": \"7172341240\",\n",
    "                \"communication_type2\": \"Work Phone Number\",\n",
    "                \"primary_communication_number\": \"7172343334\",\n",
    "                \"primary_communication_type\": \"Home Phone Number\"\n",
    "            }\n",
    "        ],\n",
    "        \"eligibility_begin_date\": \"2014-01-01\",\n",
    "        \"employment_status\": \"Full-time\",\n",
    "        \"first_name\": \"JOHN\",\n",
    "        \"gender\": \"Male\",\n",
    "        \"group_or_policy_number\": \"123456001\",\n",
    "        \"handicapped\": False,\n",
    "        \"last_name\": \"DOE\",\n",
    "        \"maintenance_reason\": \"Active\",\n",
    "        \"maintenance_type\": \"Addition\",\n",
    "        \"member_id\": \"123456789\",\n",
    "        \"middle_name\": \"P\",\n",
    "        \"relationship\": \"Self\",\n",
    "        \"ssn\": \"123456789\",\n",
    "        \"subscriber_number\": \"123456789\",\n",
    "        \"substance_abuse\": False,\n",
    "        \"tobacco_use\": False\n",
    "    },\n",
    "    \"trading_partner_id\": \"MOCKPAYER\",\n",
    "})"
   ]
  },
  {
   "cell_type": "markdown",
   "metadata": {
    "collapsed": false
   },
   "source": [
    "### Identity"
   ]
  },
  {
   "cell_type": "markdown",
   "metadata": {},
   "source": [
    "#### Identity POST"
   ]
  },
  {
   "cell_type": "code",
   "execution_count": null,
   "metadata": {
    "collapsed": false
   },
   "outputs": [],
   "source": [
    "identity_data = {\n",
    "        \"prefix\": \"Mr.\",\n",
    "        \"first_name\": \"Oscar\",\n",
    "        \"middle_name\": \"Harold\",\n",
    "        \"last_name\": \"Whitmire\",\n",
    "        \"suffix\": \"IV\",\n",
    "        \"birth_date\": \"2000-05-01\",\n",
    "        \"gender\": \"male\",\n",
    "        \"email\": \"oscar@pokitdok.com\",\n",
    "        \"phone\": \"555-555-5555\",\n",
    "        \"secondary_phone\": \"333-333-4444\",\n",
    "        \"address\": {\n",
    "            \"address_lines\": [\"1400 Anyhoo Avenue\"],\n",
    "            \"city\": \"Springfield\",\n",
    "            \"state\": \"IL\",\n",
    "            \"zipcode\": \"90210\"\n",
    "        },\n",
    "        \"identifiers\": [\n",
    "            {\n",
    "                \"location\": [-121.93831, 37.53901], \n",
    "                \"provider_uuid\": \"1917f12b-fb6a-4016-93bc-adeb83204c83\",\n",
    "                \"system_uuid\": \"967d207f-b024-41cc-8cac-89575a1f6fef\",\n",
    "                \"value\": \"W90100-IG-88\"\n",
    "                \n",
    "            }\n",
    "        ]\n",
    "}\n",
    "\n",
    "pd.create_identity(identity_data)"
   ]
  },
  {
   "cell_type": "markdown",
   "metadata": {},
   "source": [
    "#### Identity GET (uuid)"
   ]
  },
  {
   "cell_type": "code",
   "execution_count": null,
   "metadata": {
    "collapsed": false
   },
   "outputs": [],
   "source": [
    "pd.identity(identity_uuid='[identity uuid]')"
   ]
  },
  {
   "cell_type": "markdown",
   "metadata": {},
   "source": [
    "#### Identity GET"
   ]
  },
  {
   "cell_type": "code",
   "execution_count": null,
   "metadata": {
    "collapsed": false
   },
   "outputs": [],
   "source": [
    "pd.identity(first_name='Oscar', last_name='Whitmire', gender='male')"
   ]
  },
  {
   "cell_type": "markdown",
   "metadata": {
    "collapsed": true
   },
   "source": [
    "#### Identity PUT"
   ]
  },
  {
   "cell_type": "code",
   "execution_count": null,
   "metadata": {
    "collapsed": false
   },
   "outputs": [],
   "source": [
    "identity_data = {\n",
    "        \"prefix\": \"Mr.\",\n",
    "        \"first_name\": \"Oscar\",\n",
    "        \"middle_name\": \"Harold\",\n",
    "        \"last_name\": \"Whitmire\",\n",
    "        \"suffix\": \"IV\",\n",
    "        \"birth_date\": \"2000-05-01\",\n",
    "        \"gender\": \"male\",\n",
    "        \"email\": \"oscar@pokitdok.com\",\n",
    "        \"phone\": \"555-555-5555\",\n",
    "        \"secondary_phone\": \"333-333-4444\",\n",
    "        \"address\": {\n",
    "            \"address_lines\": [\"1400 Anyhoo Avenue\"],\n",
    "            \"city\": \"Springfield\",\n",
    "            \"state\": \"IL\",\n",
    "            \"zipcode\": \"90210\"\n",
    "        },\n",
    "        \"identifiers\": [\n",
    "            {\n",
    "                \"location\": [-121.93831, 37.53901], \n",
    "                \"provider_uuid\": \"1917f12b-fb6a-4016-93bc-adeb83204c83\",\n",
    "                \"system_uuid\": \"967d207f-b024-41cc-8cac-89575a1f6fef\",\n",
    "                \"value\": \"W90100-IG-88\"\n",
    "                \n",
    "            }\n",
    "        ]}\n",
    "\n",
    "pd.update_identity('[identity_uuid]', identity_data)"
   ]
  },
  {
   "cell_type": "markdown",
   "metadata": {
    "collapsed": true
   },
   "source": [
    "## Utility APIs"
   ]
  },
  {
   "cell_type": "markdown",
   "metadata": {},
   "source": [
    "### Activities"
   ]
  },
  {
   "cell_type": "code",
   "execution_count": null,
   "metadata": {
    "collapsed": true
   },
   "outputs": [],
   "source": [
    "#Check on platform activities\n",
    "#check on a specific activity\n",
    "pd.activities(activity_id='[one of your activity ids]')"
   ]
  },
  {
   "cell_type": "code",
   "execution_count": null,
   "metadata": {
    "collapsed": true
   },
   "outputs": [],
   "source": [
    "#retrieve an index of your application's activities\n",
    "pd.activities()"
   ]
  },
  {
   "cell_type": "code",
   "execution_count": null,
   "metadata": {
    "collapsed": true
   },
   "outputs": [],
   "source": [
    "#check on a batch of activities (useful to track the results of APIs like X12 files, Claims Convert, etc.)\n",
    "pd.activities(parent_id='[one of your parent activity ids]')"
   ]
  },
  {
   "cell_type": "markdown",
   "metadata": {},
   "source": [
    "### Trading Partners"
   ]
  },
  {
   "cell_type": "code",
   "execution_count": null,
   "metadata": {
    "collapsed": true
   },
   "outputs": [],
   "source": [
    "#retrieve a specific trading_partner\n",
    "pd.trading_partners(\"MOCKPAYER\")"
   ]
  },
  {
   "cell_type": "markdown",
   "metadata": {},
   "source": [
    "### ICD Convert"
   ]
  },
  {
   "cell_type": "code",
   "execution_count": null,
   "metadata": {
    "collapsed": true
   },
   "outputs": [],
   "source": [
    "#lookup a diagnosis mapping for the specified ICD-9 code\n",
    "pd.icd_convert('250.12')"
   ]
  },
  {
   "cell_type": "markdown",
   "metadata": {},
   "source": [
    "### Enrollment Snapshot"
   ]
  },
  {
   "cell_type": "code",
   "execution_count": null,
   "metadata": {
    "collapsed": true
   },
   "outputs": [],
   "source": [
    "#Use the specified X12 834 file as the current membership enrollment snapshot for a trading partner\n",
    "pd.enrollment_snapshot('MOCKPAYER', '/path/to/current_membership_enrollment.834')"
   ]
  },
  {
   "cell_type": "code",
   "execution_count": null,
   "metadata": {
    "collapsed": true
   },
   "outputs": [],
   "source": [
    ""
   ]
  }
 ],
 "metadata": {
  "kernelspec": {
   "display_name": "Python 3",
   "language": "python",
   "name": "python3"
  },
  "language_info": {
   "codemirror_mode": {
    "name": "ipython",
    "version": 3.0
   },
   "file_extension": ".py",
   "mimetype": "text/x-python",
   "name": "python",
   "nbconvert_exporter": "python",
   "pygments_lexer": "ipython3",
   "version": "3.5.0"
  }
 },
 "nbformat": 4,
 "nbformat_minor": 0
}