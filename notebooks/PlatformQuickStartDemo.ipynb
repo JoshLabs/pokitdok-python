{
 "cells": [
  {
   "cell_type": "markdown",
   "metadata": {},
   "source": [
    "### Connect and Authenticate"
   ]
  },
  {
   "cell_type": "code",
   "execution_count": null,
   "metadata": {
    "collapsed": false
   },
   "outputs": [],
   "source": [
    "import pokitdok"
   ]
  },
  {
   "cell_type": "code",
   "execution_count": null,
   "metadata": {
    "collapsed": false
   },
   "outputs": [],
   "source": [
    "pd = pokitdok.api.connect('[your client id]', '[your client secret]')"
   ]
  },
  {
   "cell_type": "markdown",
   "metadata": {},
   "source": [
    "### Prices"
   ]
  },
  {
   "cell_type": "code",
   "execution_count": null,
   "metadata": {
    "collapsed": false
   },
   "outputs": [],
   "source": [
    "pd.cash_prices(zip_code='32218', cpt_code='87799')"
   ]
  },
  {
   "cell_type": "code",
   "execution_count": null,
   "metadata": {
    "collapsed": false
   },
   "outputs": [],
   "source": [
    "pd.insurance_prices(zip_code='32218', cpt_code='87799')"
   ]
  },
  {
   "cell_type": "markdown",
   "metadata": {},
   "source": [
    "### Providers"
   ]
  },
  {
   "cell_type": "code",
   "execution_count": null,
   "metadata": {
    "collapsed": false
   },
   "outputs": [],
   "source": [
    "pd.providers(npi='1467560003')"
   ]
  },
  {
   "cell_type": "code",
   "execution_count": null,
   "metadata": {
    "collapsed": false
   },
   "outputs": [],
   "source": [
    "pd.providers(first_name='Jerome', last_name='Aya-Ay')"
   ]
  },
  {
   "cell_type": "code",
   "execution_count": null,
   "metadata": {
    "collapsed": false
   },
   "outputs": [],
   "source": [
    "pd.providers(organization_name='Qliance')"
   ]
  },
  {
   "cell_type": "code",
   "execution_count": null,
   "metadata": {
    "collapsed": false
   },
   "outputs": [],
   "source": [
    "pd.providers(zipcode='29307', radius='10mi')"
   ]
  },
  {
   "cell_type": "code",
   "execution_count": null,
   "metadata": {
    "collapsed": false
   },
   "outputs": [],
   "source": [
    "pd.providers(zipcode='29307', radius='10mi', specialty='RHEUMATOLOGY')"
   ]
  },
  {
   "cell_type": "markdown",
   "metadata": {},
   "source": [
    "### Eligibility"
   ]
  },
  {
   "cell_type": "code",
   "execution_count": null,
   "metadata": {
    "collapsed": false
   },
   "outputs": [],
   "source": [
    "pd.eligibility({\n",
    "    \"member\": {\n",
    "        \"birth_date\": \"1970-01-01\",\n",
    "        \"first_name\": \"Jane\",\n",
    "        \"last_name\": \"Doe\",\n",
    "        \"id\": \"W000000000\"\n",
    "    },\n",
    "    \"provider\": {\n",
    "        \"first_name\": \"JEROME\",\n",
    "        \"last_name\": \"AYA-AY\",\n",
    "        \"npi\": \"1467560003\"\n",
    "    },\n",
    "    \"service_types\": [\"health_benefit_plan_coverage\"],\n",
    "    \"trading_partner_id\": \"MOCKPAYER\"\n",
    "})"
   ]
  },
  {
   "cell_type": "markdown",
   "metadata": {},
   "source": [
    "### Claims"
   ]
  },
  {
   "cell_type": "code",
   "execution_count": null,
   "metadata": {
    "collapsed": false
   },
   "outputs": [],
   "source": [
    "pd.claims({\n",
    "    \"transaction_code\": \"chargeable\",\n",
    "    \"trading_partner_id\": \"MOCKPAYER\",\n",
    "    \"billing_provider\": {\n",
    "        \"taxonomy_code\": \"207Q00000X\",\n",
    "        \"first_name\": \"Jerome\",\n",
    "        \"last_name\": \"Aya-Ay\",\n",
    "        \"npi\": \"1467560003\",\n",
    "        \"address\": {\n",
    "            \"address_lines\": [\n",
    "                \"8311 WARREN H ABERNATHY HWY\"\n",
    "            ],\n",
    "            \"city\": \"SPARTANBURG\",\n",
    "            \"state\": \"SC\",\n",
    "            \"zipcode\": \"29301\"\n",
    "        },\n",
    "        \"tax_id\": \"123456789\"\n",
    "    },\n",
    "    \"subscriber\": {\n",
    "        \"first_name\": \"Jane\",\n",
    "        \"last_name\": \"Doe\",\n",
    "        \"member_id\": \"W000000000\",\n",
    "        \"address\": {\n",
    "            \"address_lines\": [\"123 N MAIN ST\"],\n",
    "            \"city\": \"SPARTANBURG\",\n",
    "            \"state\": \"SC\",\n",
    "            \"zipcode\": \"29301\"\n",
    "        },\n",
    "        \"birth_date\": \"1970-01-01\",\n",
    "        \"gender\": \"female\"\n",
    "    },\n",
    "    \"claim\": {\n",
    "        \"total_charge_amount\": 60.0,\n",
    "        \"service_lines\": [\n",
    "            {\n",
    "                \"procedure_code\": \"99213\",\n",
    "                \"charge_amount\": 60.0,\n",
    "                \"unit_count\": 1.0,\n",
    "                \"diagnosis_codes\": [\n",
    "                    \"487.1\"\n",
    "                ],\n",
    "                \"service_date\": \"2014-06-01\"\n",
    "            }\n",
    "        ]\n",
    "    }\n",
    "})"
   ]
  },
  {
   "cell_type": "markdown",
   "metadata": {},
   "source": [
    "### X12 Files"
   ]
  },
  {
   "cell_type": "code",
   "execution_count": null,
   "metadata": {
    "collapsed": false
   },
   "outputs": [],
   "source": [
    "pd.files('MOCKPAYER', '/x12_files/eligibility_requests_batch_20.270')"
   ]
  },
  {
   "cell_type": "markdown",
   "metadata": {},
   "source": [
    "### Activities"
   ]
  },
  {
   "cell_type": "code",
   "execution_count": null,
   "metadata": {
    "collapsed": false
   },
   "outputs": [],
   "source": [
    "pd.activities(activity_id='[one of your activity ids]')"
   ]
  },
  {
   "cell_type": "code",
   "execution_count": null,
   "metadata": {
    "collapsed": false
   },
   "outputs": [],
   "source": [
    "pd.activities()"
   ]
  },
  {
   "cell_type": "markdown",
   "metadata": {
    "collapsed": false
   },
   "source": [
    "### Identity"
   ]
  },
  {
   "cell_type": "markdown",
   "metadata": {},
   "source": [
    "#### Identity POST"
   ]
  },
  {
   "cell_type": "code",
   "execution_count": null,
   "metadata": {
    "collapsed": false
   },
   "outputs": [],
   "source": [
    "identity_data = {\n",
    "        \"prefix\": \"Mr.\",\n",
    "        \"first_name\": \"Oscar\",\n",
    "        \"middle_name\": \"Harold\",\n",
    "        \"last_name\": \"Whitmire\",\n",
    "        \"suffix\": \"IV\",\n",
    "        \"birth_date\": \"2000-05-01\",\n",
    "        \"gender\": \"male\",\n",
    "        \"email\": \"oscar@pokitdok.com\",\n",
    "        \"phone\": \"555-555-5555\",\n",
    "        \"secondary_phone\": \"333-333-4444\",\n",
    "        \"address\": {\n",
    "            \"address_lines\": [\"1400 Anyhoo Avenue\"],\n",
    "            \"city\": \"Springfield\",\n",
    "            \"state\": \"IL\",\n",
    "            \"zipcode\": \"90210\"\n",
    "        },\n",
    "        \"identifiers\": [\n",
    "            {\n",
    "                \"location\": [-121.93831, 37.53901], \n",
    "                \"provider_uuid\": \"1917f12b-fb6a-4016-93bc-adeb83204c83\",\n",
    "                \"system_uuid\": \"967d207f-b024-41cc-8cac-89575a1f6fef\",\n",
    "                \"value\": \"W90100-IG-88\"\n",
    "                \n",
    "            }\n",
    "        ]\n",
    "}\n",
    "\n",
    "pd.create_identity(identity_data)"
   ]
  },
  {
   "cell_type": "markdown",
   "metadata": {},
   "source": [
    "#### Identity GET (uuid)"
   ]
  },
  {
   "cell_type": "code",
   "execution_count": null,
   "metadata": {
    "collapsed": false
   },
   "outputs": [],
   "source": [
    "pd.identity(identity_uuid='[identity uuid]')"
   ]
  },
  {
   "cell_type": "markdown",
   "metadata": {},
   "source": [
    "#### Identity GET"
   ]
  },
  {
   "cell_type": "code",
   "execution_count": null,
   "metadata": {
    "collapsed": false
   },
   "outputs": [],
   "source": [
    "pd.identity(first_name='Oscar', last_name='Whitmire', gender='male')"
   ]
  },
  {
   "cell_type": "markdown",
   "metadata": {
    "collapsed": true
   },
   "source": [
    "#### Identity PUT"
   ]
  },
  {
   "cell_type": "code",
   "execution_count": null,
   "metadata": {
    "collapsed": false
   },
   "outputs": [],
   "source": [
    "identity_data = {\n",
    "        \"prefix\": \"Mr.\",\n",
    "        \"first_name\": \"Oscar\",\n",
    "        \"middle_name\": \"Harold\",\n",
    "        \"last_name\": \"Whitmire\",\n",
    "        \"suffix\": \"IV\",\n",
    "        \"birth_date\": \"2000-05-01\",\n",
    "        \"gender\": \"male\",\n",
    "        \"email\": \"oscar@pokitdok.com\",\n",
    "        \"phone\": \"555-555-5555\",\n",
    "        \"secondary_phone\": \"333-333-4444\",\n",
    "        \"address\": {\n",
    "            \"address_lines\": [\"1400 Anyhoo Avenue\"],\n",
    "            \"city\": \"Springfield\",\n",
    "            \"state\": \"IL\",\n",
    "            \"zipcode\": \"90210\"\n",
    "        },\n",
    "        \"identifiers\": [\n",
    "            {\n",
    "                \"location\": [-121.93831, 37.53901], \n",
    "                \"provider_uuid\": \"1917f12b-fb6a-4016-93bc-adeb83204c83\",\n",
    "                \"system_uuid\": \"967d207f-b024-41cc-8cac-89575a1f6fef\",\n",
    "                \"value\": \"W90100-IG-88\"\n",
    "                \n",
    "            }\n",
    "        ]}\n",
    "\n",
    "pd.update_identity('[identity_uuid]', identity_data)"
   ]
  },
  {
   "cell_type": "code",
   "execution_count": null,
   "metadata": {
    "collapsed": true
   },
   "outputs": [],
   "source": []
  }
 ],
 "metadata": {
  "kernelspec": {
   "display_name": "Python 3",
   "language": "python",
   "name": "python3"
  },
  "language_info": {
   "codemirror_mode": {
    "name": "ipython",
    "version": 3
   },
   "file_extension": ".py",
   "mimetype": "text/x-python",
   "name": "python",
   "nbconvert_exporter": "python",
   "pygments_lexer": "ipython3",
   "version": "3.5.1"
  }
 },
 "nbformat": 4,
 "nbformat_minor": 0
}
