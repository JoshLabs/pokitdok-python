{
 "metadata": {
  "name": "",
  "signature": "sha256:a146e0e0d3ad4d9f2f723dbeed6bfe513f7842c827ab35f462a49a952d4470b0"
 },
 "nbformat": 3,
 "nbformat_minor": 0,
 "worksheets": [
  {
   "cells": [
    {
     "cell_type": "heading",
     "level": 3,
     "metadata": {},
     "source": [
      "Connect and Authenticate"
     ]
    },
    {
     "cell_type": "code",
     "collapsed": false,
     "input": [
      "import pokitdok"
     ],
     "language": "python",
     "metadata": {},
     "outputs": []
    },
    {
     "cell_type": "code",
     "collapsed": false,
     "input": [
      "pd = pokitdok.api.connect('[your client id]', '[your client secret]')"
     ],
     "language": "python",
     "metadata": {},
     "outputs": []
    },
    {
     "cell_type": "heading",
     "level": 3,
     "metadata": {},
     "source": [
      "Prices"
     ]
    },
    {
     "cell_type": "code",
     "collapsed": false,
     "input": [
      "pd.cash_prices(zip_code='32218', cpt_code='87799')"
     ],
     "language": "python",
     "metadata": {},
     "outputs": []
    },
    {
     "cell_type": "code",
     "collapsed": false,
     "input": [
      "pd.insurance_prices(zip_code='32218', cpt_code='87799')"
     ],
     "language": "python",
     "metadata": {},
     "outputs": []
    },
    {
     "cell_type": "heading",
     "level": 3,
     "metadata": {},
     "source": [
      "Providers"
     ]
    },
    {
     "cell_type": "code",
     "collapsed": false,
     "input": [
      "pd.providers(npi='1467560003')"
     ],
     "language": "python",
     "metadata": {},
     "outputs": []
    },
    {
     "cell_type": "code",
     "collapsed": false,
     "input": [
      "pd.providers(first_name='Jerome', last_name='Aya-Ay')"
     ],
     "language": "python",
     "metadata": {},
     "outputs": []
    },
    {
     "cell_type": "code",
     "collapsed": false,
     "input": [
      "pd.providers(organization_name='Qliance')"
     ],
     "language": "python",
     "metadata": {},
     "outputs": []
    },
    {
     "cell_type": "code",
     "collapsed": false,
     "input": [
      "pd.providers(zipcode='29307', radius='10mi')"
     ],
     "language": "python",
     "metadata": {},
     "outputs": []
    },
    {
     "cell_type": "code",
     "collapsed": false,
     "input": [
      "pd.providers(zipcode='29307', radius='10mi', specialty='RHEUMATOLOGY')"
     ],
     "language": "python",
     "metadata": {},
     "outputs": []
    },
    {
     "cell_type": "heading",
     "level": 3,
     "metadata": {},
     "source": [
      "Eligibility"
     ]
    },
    {
     "cell_type": "code",
     "collapsed": false,
     "input": [
      "pd.eligibility({\n",
      "    \"member\": {\n",
      "        \"birth_date\": \"1970-01-01\",\n",
      "        \"first_name\": \"Jane\",\n",
      "        \"last_name\": \"Doe\",\n",
      "        \"id\": \"W000000000\"\n",
      "    },\n",
      "    \"provider\": {\n",
      "        \"first_name\": \"JEROME\",\n",
      "        \"last_name\": \"AYA-AY\",\n",
      "        \"npi\": \"1467560003\"\n",
      "    },\n",
      "    \"service_types\": [\"health_benefit_plan_coverage\"],\n",
      "    \"trading_partner_id\": \"MOCKPAYER\"\n",
      "})"
     ],
     "language": "python",
     "metadata": {},
     "outputs": []
    },
    {
     "cell_type": "heading",
     "level": 3,
     "metadata": {},
     "source": [
      "Claims"
     ]
    },
    {
     "cell_type": "code",
     "collapsed": false,
     "input": [
      "pd.claims({\n",
      "    \"transaction_code\": \"chargeable\",\n",
      "    \"trading_partner_id\": \"MOCKPAYER\",\n",
      "    \"billing_provider\": {\n",
      "        \"taxonomy_code\": \"207Q00000X\",\n",
      "        \"first_name\": \"Jerome\",\n",
      "        \"last_name\": \"Aya-Ay\",\n",
      "        \"npi\": \"1467560003\",\n",
      "        \"address\": {\n",
      "            \"address_lines\": [\n",
      "                \"8311 WARREN H ABERNATHY HWY\"\n",
      "            ],\n",
      "            \"city\": \"SPARTANBURG\",\n",
      "            \"state\": \"SC\",\n",
      "            \"zipcode\": \"29301\"\n",
      "        },\n",
      "        \"tax_id\": \"123456789\"\n",
      "    },\n",
      "    \"subscriber\": {\n",
      "        \"first_name\": \"Jane\",\n",
      "        \"last_name\": \"Doe\",\n",
      "        \"member_id\": \"W000000000\",\n",
      "        \"address\": {\n",
      "            \"address_lines\": [\"123 N MAIN ST\"],\n",
      "            \"city\": \"SPARTANBURG\",\n",
      "            \"state\": \"SC\",\n",
      "            \"zipcode\": \"29301\"\n",
      "        },\n",
      "        \"birth_date\": \"1970-01-01\",\n",
      "        \"gender\": \"female\"\n",
      "    },\n",
      "    \"claim\": {\n",
      "        \"total_charge_amount\": 60.0,\n",
      "        \"service_lines\": [\n",
      "            {\n",
      "                \"procedure_code\": \"99213\",\n",
      "                \"charge_amount\": 60.0,\n",
      "                \"unit_count\": 1.0,\n",
      "                \"diagnosis_codes\": [\n",
      "                    \"487.1\"\n",
      "                ],\n",
      "                \"service_date\": \"2014-06-01\"\n",
      "            }\n",
      "        ]\n",
      "    }\n",
      "})"
     ],
     "language": "python",
     "metadata": {},
     "outputs": []
    },
    {
     "cell_type": "heading",
     "level": 3,
     "metadata": {},
     "source": [
      "X12 Files"
     ]
    },
    {
     "cell_type": "code",
     "collapsed": false,
     "input": [
      "pd.files('MOCKPAYER', '/x12_files/eligibility_requests_batch_20.270')"
     ],
     "language": "python",
     "metadata": {},
     "outputs": []
    },
    {
     "cell_type": "heading",
     "level": 3,
     "metadata": {},
     "source": [
      "Activities"
     ]
    },
    {
     "cell_type": "code",
     "collapsed": false,
     "input": [
      "pd.activities(activity_id='[one of your activity ids]')"
     ],
     "language": "python",
     "metadata": {},
     "outputs": []
    },
    {
     "cell_type": "code",
     "collapsed": false,
     "input": [
      "pd.activities()"
     ],
     "language": "python",
     "metadata": {},
     "outputs": []
    },
    {
     "cell_type": "code",
     "collapsed": false,
     "input": [],
     "language": "python",
     "metadata": {},
     "outputs": []
    }
   ],
   "metadata": {}
  }
 ]
}